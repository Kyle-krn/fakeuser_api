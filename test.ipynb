{
 "cells": [
  {
   "cell_type": "code",
   "execution_count": 3,
   "metadata": {},
   "outputs": [],
   "source": [
    "from vk_api import VkApi\n",
    "access_token= \"vk1.a.6GBvUbFf44fl2uzHdKfIp2LCYsAFdWhnqTTiIIbXChJd-IGZk0n51dLrUWHSJPt7UGAvPZ9xJFalwQYLv8JPS6fVqxnBVFD5SMv8WnlHJnuakwTxYmXoflyLbgD7-9eHBIQysM6QBVM9oERw2sDzuLpF1WLHc7BbNz31sAg95Bz2QyHv8EAiik6wTgbDF_ET\"\n",
    "\n"
   ]
  },
  {
   "cell_type": "code",
   "execution_count": 5,
   "metadata": {},
   "outputs": [],
   "source": [
    "session = VkApi(token=access_token)\n",
    "vk = session.get_api()"
   ]
  },
  {
   "cell_type": "code",
   "execution_count": 9,
   "metadata": {},
   "outputs": [
    {
     "data": {
      "text/plain": [
       "[{'id': 33445449,\n",
       "  'photo_max_orig': 'https://sun2-9.userapi.com/s/v1/if1/wAbu1eb8alJVTH40PGv0ho0X2-uanAwzy4oi8jNzhlLruqc8p2NInsL_HkXW8gvr95UHG6fl.jpg?size=400x400&quality=96&crop=0,125,750,751&ava=1',\n",
       "  'first_name': 'Егор',\n",
       "  'last_name': 'Ли',\n",
       "  'can_access_closed': True,\n",
       "  'is_closed': True}]"
      ]
     },
     "execution_count": 9,
     "metadata": {},
     "output_type": "execute_result"
    }
   ],
   "source": [
    "vk.users.get(user_ids=\"barbietoura\", fields=\"photo_max_orig\")"
   ]
  },
  {
   "cell_type": "code",
   "execution_count": null,
   "metadata": {},
   "outputs": [],
   "source": []
  }
 ],
 "metadata": {
  "kernelspec": {
   "display_name": "Python 3.8.10 ('venv')",
   "language": "python",
   "name": "python3"
  },
  "language_info": {
   "codemirror_mode": {
    "name": "ipython",
    "version": 3
   },
   "file_extension": ".py",
   "mimetype": "text/x-python",
   "name": "python",
   "nbconvert_exporter": "python",
   "pygments_lexer": "ipython3",
   "version": "3.8.10"
  },
  "orig_nbformat": 4,
  "vscode": {
   "interpreter": {
    "hash": "8dbb5c6ab78fdf5cd49b4a58c7cbeef3f83fa32f8b5815b5d5c08dd6c717b42e"
   }
  }
 },
 "nbformat": 4,
 "nbformat_minor": 2
}
